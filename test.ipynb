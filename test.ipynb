{
 "cells": [
  {
   "cell_type": "code",
   "execution_count": 1,
   "metadata": {},
   "outputs": [
    {
     "name": "stderr",
     "output_type": "stream",
     "text": [
      "Downloading https://github.com/kimiyoung/planetoid/raw/master/data/ind.citeseer.x\n",
      "Downloading https://github.com/kimiyoung/planetoid/raw/master/data/ind.citeseer.tx\n",
      "Downloading https://github.com/kimiyoung/planetoid/raw/master/data/ind.citeseer.allx\n",
      "Downloading https://github.com/kimiyoung/planetoid/raw/master/data/ind.citeseer.y\n",
      "Downloading https://github.com/kimiyoung/planetoid/raw/master/data/ind.citeseer.ty\n",
      "Downloading https://github.com/kimiyoung/planetoid/raw/master/data/ind.citeseer.ally\n",
      "Downloading https://github.com/kimiyoung/planetoid/raw/master/data/ind.citeseer.graph\n",
      "Downloading https://github.com/kimiyoung/planetoid/raw/master/data/ind.citeseer.test.index\n",
      "Processing...\n",
      "Done!\n"
     ]
    }
   ],
   "source": [
    "from torch_geometric.datasets import Planetoid\n",
    "\n",
    "def load_citeseer_data(root='data/Citeseer'):\n",
    "    dataset = Planetoid(root=root, name='Citeseer')\n",
    "    return dataset\n",
    "\n",
    "dataset = load_citeseer_data()"
   ]
  },
  {
   "cell_type": "code",
   "execution_count": 2,
   "metadata": {},
   "outputs": [
    {
     "name": "stderr",
     "output_type": "stream",
     "text": [
      "<>:5: SyntaxWarning: invalid escape sequence '\\d'\n",
      "<>:7: SyntaxWarning: invalid escape sequence '\\d'\n",
      "<>:5: SyntaxWarning: invalid escape sequence '\\d'\n",
      "<>:7: SyntaxWarning: invalid escape sequence '\\d'\n",
      "C:\\Users\\drake\\AppData\\Local\\Temp\\ipykernel_10116\\1240880977.py:5: SyntaxWarning: invalid escape sequence '\\d'\n",
      "  onehot_maxdeg = re.findall(\"odeg(\\d+)\", feat_str)\n",
      "C:\\Users\\drake\\AppData\\Local\\Temp\\ipykernel_10116\\1240880977.py:7: SyntaxWarning: invalid escape sequence '\\d'\n",
      "  k = re.findall(\"an{0,1}k(\\d+)\", feat_str)\n",
      "C:\\Users\\drake\\AppData\\Local\\Temp\\ipykernel_10116\\1240880977.py:5: SyntaxWarning: invalid escape sequence '\\d'\n",
      "  onehot_maxdeg = re.findall(\"odeg(\\d+)\", feat_str)\n",
      "C:\\Users\\drake\\AppData\\Local\\Temp\\ipykernel_10116\\1240880977.py:7: SyntaxWarning: invalid escape sequence '\\d'\n",
      "  k = re.findall(\"an{0,1}k(\\d+)\", feat_str)\n"
     ]
    },
    {
     "ename": "ModuleNotFoundError",
     "evalue": "No module named 'torch_scatter'",
     "output_type": "error",
     "traceback": [
      "\u001b[1;31m---------------------------------------------------------------------------\u001b[0m",
      "\u001b[1;31mModuleNotFoundError\u001b[0m                       Traceback (most recent call last)",
      "Cell \u001b[1;32mIn[2], line 1\u001b[0m\n\u001b[1;32m----> 1\u001b[0m \u001b[38;5;28;01mfrom\u001b[39;00m \u001b[38;5;21;01mfeature_expansion\u001b[39;00m \u001b[38;5;28;01mimport\u001b[39;00m FeatureExpander\n\u001b[0;32m      3\u001b[0m \u001b[38;5;28;01mdef\u001b[39;00m \u001b[38;5;21mpreprocess_citeseer_data\u001b[39m(dataset, feat_str\u001b[38;5;241m=\u001b[39m\u001b[38;5;124m\"\u001b[39m\u001b[38;5;124mdeg+ak3+reall\u001b[39m\u001b[38;5;124m\"\u001b[39m):\n\u001b[0;32m      4\u001b[0m     degree \u001b[38;5;241m=\u001b[39m feat_str\u001b[38;5;241m.\u001b[39mfind(\u001b[38;5;124m\"\u001b[39m\u001b[38;5;124mdeg\u001b[39m\u001b[38;5;124m\"\u001b[39m) \u001b[38;5;241m>\u001b[39m\u001b[38;5;241m=\u001b[39m \u001b[38;5;241m0\u001b[39m\n",
      "File \u001b[1;32mc:\\Paper\\Causal Graph\\New folder\\CausalGraph\\feature_expansion.py:5\u001b[0m\n\u001b[0;32m      3\u001b[0m \u001b[38;5;28;01mimport\u001b[39;00m \u001b[38;5;21;01mnetworkx\u001b[39;00m \u001b[38;5;28;01mas\u001b[39;00m \u001b[38;5;21;01mnx\u001b[39;00m\n\u001b[0;32m      4\u001b[0m \u001b[38;5;28;01mfrom\u001b[39;00m \u001b[38;5;21;01mtorch_geometric\u001b[39;00m\u001b[38;5;21;01m.\u001b[39;00m\u001b[38;5;21;01mnn\u001b[39;00m\u001b[38;5;21;01m.\u001b[39;00m\u001b[38;5;21;01mconv\u001b[39;00m \u001b[38;5;28;01mimport\u001b[39;00m MessagePassing\n\u001b[1;32m----> 5\u001b[0m \u001b[38;5;28;01mfrom\u001b[39;00m \u001b[38;5;21;01mtorch_scatter\u001b[39;00m \u001b[38;5;28;01mimport\u001b[39;00m scatter_add\n\u001b[0;32m      6\u001b[0m \u001b[38;5;28;01mfrom\u001b[39;00m \u001b[38;5;21;01mtorch_geometric\u001b[39;00m\u001b[38;5;21;01m.\u001b[39;00m\u001b[38;5;21;01mutils\u001b[39;00m \u001b[38;5;28;01mimport\u001b[39;00m degree\n\u001b[0;32m      7\u001b[0m \u001b[38;5;28;01mfrom\u001b[39;00m \u001b[38;5;21;01mtorch_geometric\u001b[39;00m\u001b[38;5;21;01m.\u001b[39;00m\u001b[38;5;21;01mutils\u001b[39;00m \u001b[38;5;28;01mimport\u001b[39;00m remove_self_loops, add_self_loops\n",
      "\u001b[1;31mModuleNotFoundError\u001b[0m: No module named 'torch_scatter'"
     ]
    }
   ],
   "source": [
    "from feature_expansion import FeatureExpander\n",
    "\n",
    "def preprocess_citeseer_data(dataset, feat_str=\"deg+ak3+reall\"):\n",
    "    degree = feat_str.find(\"deg\") >= 0\n",
    "    onehot_maxdeg = re.findall(\"odeg(\\d+)\", feat_str)\n",
    "    onehot_maxdeg = int(onehot_maxdeg[0]) if onehot_maxdeg else None\n",
    "    k = re.findall(\"an{0,1}k(\\d+)\", feat_str)\n",
    "    k = int(k[0]) if k else 0\n",
    "    centrality = feat_str.find(\"cent\") >= 0\n",
    "    \n",
    "    pre_transform = FeatureExpander(\n",
    "        degree=degree, onehot_maxdeg=onehot_maxdeg, AK=k, centrality=centrality).transform\n",
    "    \n",
    "    for data in dataset:\n",
    "        data = pre_transform(data)\n",
    "        \n",
    "    return dataset\n",
    "\n",
    "dataset = preprocess_citeseer_data(dataset)"
   ]
  },
  {
   "cell_type": "code",
   "execution_count": 3,
   "metadata": {},
   "outputs": [
    {
     "name": "stdout",
     "output_type": "stream",
     "text": [
      "2.3.0+cpu\n",
      "None\n"
     ]
    }
   ],
   "source": [
    "import torch\n",
    "print(torch.__version__)\n",
    "print(torch.version.cuda)"
   ]
  }
 ],
 "metadata": {
  "kernelspec": {
   "display_name": "Python 3",
   "language": "python",
   "name": "python3"
  },
  "language_info": {
   "codemirror_mode": {
    "name": "ipython",
    "version": 3
   },
   "file_extension": ".py",
   "mimetype": "text/x-python",
   "name": "python",
   "nbconvert_exporter": "python",
   "pygments_lexer": "ipython3",
   "version": "3.12.1"
  }
 },
 "nbformat": 4,
 "nbformat_minor": 2
}
